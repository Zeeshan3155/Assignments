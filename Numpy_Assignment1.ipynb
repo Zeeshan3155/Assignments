{
 "cells": [
  {
   "cell_type": "code",
   "execution_count": 1,
   "id": "ffc22eeb",
   "metadata": {},
   "outputs": [],
   "source": [
    "import numpy as np"
   ]
  },
  {
   "cell_type": "markdown",
   "id": "fe6383ca",
   "metadata": {},
   "source": [
    "1. Create a null vector of size 10 but the fifth value which is 1."
   ]
  },
  {
   "cell_type": "code",
   "execution_count": 2,
   "id": "e658fb8f",
   "metadata": {},
   "outputs": [
    {
     "name": "stdout",
     "output_type": "stream",
     "text": [
      "[0. 0. 0. 0. 1. 0. 0. 0. 0. 0.]\n"
     ]
    }
   ],
   "source": [
    "arr = np.zeros(10,)\n",
    "arr[4] = 1\n",
    "print(arr)"
   ]
  },
  {
   "cell_type": "markdown",
   "id": "3e986530",
   "metadata": {},
   "source": [
    "2. Create a vector with values ranging from 10 to 49."
   ]
  },
  {
   "cell_type": "code",
   "execution_count": 3,
   "id": "f7699e5b",
   "metadata": {},
   "outputs": [
    {
     "name": "stdout",
     "output_type": "stream",
     "text": [
      "[10 11 12 13 14 15 16 17 18 19 20 21 22 23 24 25 26 27 28 29 30 31 32 33\n",
      " 34 35 36 37 38 39 40 41 42 43 44 45 46 47 48 49]\n"
     ]
    }
   ],
   "source": [
    "print(np.arange(10,50))"
   ]
  },
  {
   "cell_type": "markdown",
   "id": "c83ea8f8",
   "metadata": {},
   "source": [
    "3. Create a 3x3 matrix with values ranging from 0 to 8"
   ]
  },
  {
   "cell_type": "code",
   "execution_count": 4,
   "id": "7093f076",
   "metadata": {},
   "outputs": [
    {
     "data": {
      "text/plain": [
       "array([[0, 1, 2],\n",
       "       [3, 4, 5],\n",
       "       [6, 7, 8]])"
      ]
     },
     "execution_count": 4,
     "metadata": {},
     "output_type": "execute_result"
    }
   ],
   "source": [
    "np.arange(0,9).reshape(3,3)"
   ]
  },
  {
   "cell_type": "markdown",
   "id": "24ccd1ba",
   "metadata": {},
   "source": [
    "4. Find indices of non-zero elements from [1,2,0,0,4,0]"
   ]
  },
  {
   "cell_type": "code",
   "execution_count": 5,
   "id": "980c101f",
   "metadata": {},
   "outputs": [
    {
     "data": {
      "text/plain": [
       "(array([0, 1, 4], dtype=int64),)"
      ]
     },
     "execution_count": 5,
     "metadata": {},
     "output_type": "execute_result"
    }
   ],
   "source": [
    "arr1 = np.array([1,2,0,0,4,0])\n",
    "np.nonzero(arr1)"
   ]
  },
  {
   "cell_type": "markdown",
   "id": "d11586ca",
   "metadata": {},
   "source": [
    "5. Create a 10x10 array with random values and find the minimum and maximum values."
   ]
  },
  {
   "cell_type": "code",
   "execution_count": 6,
   "id": "d01f77d5",
   "metadata": {},
   "outputs": [
    {
     "name": "stdout",
     "output_type": "stream",
     "text": [
      "[[0.93175969 0.84235225 0.97785135 0.48330816 0.96615771 0.81515657\n",
      "  0.13820118 0.10305807 0.02174964 0.89314921]\n",
      " [0.93662184 0.85670658 0.93796328 0.73253369 0.85938614 0.83132808\n",
      "  0.05919702 0.93153155 0.13525939 0.17199532]\n",
      " [0.49381659 0.19696862 0.52920317 0.11265943 0.76038479 0.3065503\n",
      "  0.0833951  0.3773096  0.38540942 0.2017838 ]\n",
      " [0.40337369 0.57380263 0.62560597 0.41773387 0.74382252 0.27547332\n",
      "  0.63312228 0.75946562 0.98428196 0.70169802]\n",
      " [0.20545151 0.7557947  0.28081403 0.48103155 0.99815941 0.76067845\n",
      "  0.69617686 0.90368268 0.09917148 0.67986773]\n",
      " [0.50373332 0.92493409 0.42513011 0.94377556 0.19169337 0.94083282\n",
      "  0.91531783 0.4970729  0.36458392 0.22225502]\n",
      " [0.2243923  0.04169587 0.01925036 0.12054966 0.70225048 0.92251396\n",
      "  0.69228994 0.25150997 0.17369521 0.06833428]\n",
      " [0.30208137 0.49392773 0.74202876 0.63791674 0.93755116 0.27820455\n",
      "  0.86021955 0.40996195 0.88760166 0.83106068]\n",
      " [0.73488307 0.7451003  0.64447824 0.60208454 0.59595634 0.44560094\n",
      "  0.18197637 0.40500532 0.99610985 0.36223148]\n",
      " [0.6296587  0.93510064 0.30083495 0.89590998 0.67346736 0.21297941\n",
      "  0.37748512 0.18153269 0.94503165 0.43112583]]\n",
      "Max. value is 0.9981594119448075\n",
      "Min. value is 0.01925036225361143\n"
     ]
    }
   ],
   "source": [
    "arr2 = np.random.random(size =(10,10))\n",
    "print(arr2)\n",
    "print(f\"Max. value is {arr2.max()}\")\n",
    "print(f\"Min. value is {arr2.min()}\")"
   ]
  },
  {
   "cell_type": "markdown",
   "id": "6c2942d7",
   "metadata": {},
   "source": [
    "6. Create a random vector of size 30 and find the mean value."
   ]
  },
  {
   "cell_type": "code",
   "execution_count": 7,
   "id": "b3f3e538",
   "metadata": {},
   "outputs": [
    {
     "data": {
      "text/plain": [
       "0.5050738842642563"
      ]
     },
     "execution_count": 7,
     "metadata": {},
     "output_type": "execute_result"
    }
   ],
   "source": [
    "np.random.random(size = 30).mean()"
   ]
  }
 ],
 "metadata": {
  "kernelspec": {
   "display_name": "Python 3 (ipykernel)",
   "language": "python",
   "name": "python3"
  },
  "language_info": {
   "codemirror_mode": {
    "name": "ipython",
    "version": 3
   },
   "file_extension": ".py",
   "mimetype": "text/x-python",
   "name": "python",
   "nbconvert_exporter": "python",
   "pygments_lexer": "ipython3",
   "version": "3.9.4"
  }
 },
 "nbformat": 4,
 "nbformat_minor": 5
}
