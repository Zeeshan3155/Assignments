{
 "cells": [
  {
   "cell_type": "code",
   "execution_count": null,
   "id": "d2f6235e",
   "metadata": {},
   "outputs": [],
   "source": [
    "word = input(\"Enter the word \\n\")\n",
    "str=\"\"\n",
    "for i in word:\n",
    "    str = i + str\n",
    "print(str)"
   ]
  }
 ],
 "metadata": {
  "kernelspec": {
   "display_name": "Python 3 (ipykernel)",
   "language": "python",
   "name": "python3"
  },
  "language_info": {
   "codemirror_mode": {
    "name": "ipython",
    "version": 3
   },
   "file_extension": ".py",
   "mimetype": "text/x-python",
   "name": "python",
   "nbconvert_exporter": "python",
   "pygments_lexer": "ipython3",
   "version": "3.9.4"
  }
 },
 "nbformat": 4,
 "nbformat_minor": 5
}
